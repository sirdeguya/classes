{
 "cells": [
  {
   "cell_type": "markdown",
   "metadata": {},
   "source": [
    "# Classes"
   ]
  },
  {
   "cell_type": "markdown",
   "metadata": {},
   "source": [
    "## First we had structs {}"
   ]
  },
  {
   "cell_type": "code",
   "execution_count": 9,
   "metadata": {},
   "outputs": [],
   "source": [
    "import datetime\n",
    "clinton = dict(birthday=datetime.date(year=1946, month=8, day=19), name=\"Bill\", surname='Clinton')\n",
    "Obama = dict(day_of_birth=datetime.date(year=1961, month=8, day=4), name=\"barack\", surname='Obama', was_president=True)\n",
    "Jesus = dict(age=2020, name=\"Jesus\", spouce='Maria')"
   ]
  },
  {
   "cell_type": "code",
   "execution_count": 10,
   "metadata": {},
   "outputs": [],
   "source": [
    "# Now let's try to calculate their age\n",
    "\n",
    "def calculate_age(birthday: datetime.date)-> float:\n",
    "    today = datetime.date.today()\n",
    "    since_birthday = today - birthday\n",
    "    age = since_birthday.days / 365\n",
    "    return age"
   ]
  },
  {
   "cell_type": "code",
   "execution_count": 11,
   "metadata": {},
   "outputs": [
    {
     "data": {
      "text/plain": [
       "74.21643835616439"
      ]
     },
     "execution_count": 11,
     "metadata": {},
     "output_type": "execute_result"
    }
   ],
   "source": [
    "# Lets try that\n",
    "calculate_age(clinton['birthday'])"
   ]
  },
  {
   "cell_type": "markdown",
   "metadata": {},
   "source": [
    "## What problems can you spot with this? \n",
    "\n",
    "* No Structure\n",
    "\n",
    "* Not DRY (repeating logic)\n",
    "\n",
    "*We can do better*"
   ]
  },
  {
   "cell_type": "markdown",
   "metadata": {},
   "source": [
    "### Classes encapsulate together:\n",
    "\n",
    "**State**\n",
    "**Behavior**\n",
    "**Identity**"
   ]
  },
  {
   "cell_type": "code",
   "execution_count": null,
   "metadata": {},
   "outputs": [],
   "source": []
  },
  {
   "cell_type": "markdown",
   "metadata": {},
   "source": [
    "## Inheritence "
   ]
  },
  {
   "cell_type": "code",
   "execution_count": null,
   "metadata": {},
   "outputs": [],
   "source": []
  },
  {
   "cell_type": "markdown",
   "metadata": {},
   "source": [
    "## Common classes in reality"
   ]
  },
  {
   "cell_type": "code",
   "execution_count": null,
   "metadata": {},
   "outputs": [],
   "source": []
  },
  {
   "cell_type": "markdown",
   "metadata": {},
   "source": [
    "# Homework\n",
    "\n",
    "* Read more about [Classes in python](https://www.geeksforgeeks.org/python-classes-and-objects/) (until encpasulation) \n",
    "* Do the [notebooks](https://github.com/PythonFreeCourse/Notebooks) classes 1 and classes 2  lessons (week 7)"
   ]
  },
  {
   "cell_type": "markdown",
   "metadata": {},
   "source": [
    "## Class dismissed"
   ]
  }
 ],
 "metadata": {
  "kernelspec": {
   "display_name": "Python 3",
   "language": "python",
   "name": "python3"
  },
  "language_info": {
   "codemirror_mode": {
    "name": "ipython",
    "version": 3
   },
   "file_extension": ".py",
   "mimetype": "text/x-python",
   "name": "python",
   "nbconvert_exporter": "python",
   "pygments_lexer": "ipython3",
   "version": "3.8.1"
  }
 },
 "nbformat": 4,
 "nbformat_minor": 4
}
