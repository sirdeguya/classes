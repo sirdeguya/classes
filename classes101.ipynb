{
 "cells": [
  {
   "cell_type": "markdown",
   "metadata": {},
   "source": [
    "# Classes"
   ]
  },
  {
   "cell_type": "markdown",
   "metadata": {},
   "source": [
    "## First we had structs {}"
   ]
  },
  {
   "cell_type": "code",
   "execution_count": 9,
   "metadata": {},
   "outputs": [],
   "source": [
    "import datetime\n",
    "clinton = dict(birthday=datetime.date(year=1946, month=8, day=19), name=\"Bill\", surname='Clinton')\n",
    "Obama = dict(day_of_birth=datetime.date(year=1961, month=8, day=4), name=\"barack\", surname='Obama', was_president=True)\n",
    "Jesus = dict(age=2020, name=\"Jesus\", spouce='Maria')"
   ]
  },
  {
   "cell_type": "code",
   "execution_count": 10,
   "metadata": {},
   "outputs": [],
   "source": [
    "# Now let's try to calculate their age\n",
    "\n",
    "def calculate_age(birthday: datetime.date)-> float:\n",
    "    today = datetime.date.today()\n",
    "    since_birthday = today - birthday\n",
    "    age = since_birthday.days / 365\n",
    "    return age"
   ]
  },
  {
   "cell_type": "code",
   "execution_count": 11,
   "metadata": {},
   "outputs": [
    {
     "data": {
      "text/plain": [
       "74.21643835616439"
      ]
     },
     "execution_count": 11,
     "metadata": {},
     "output_type": "execute_result"
    }
   ],
   "source": [
    "# Lets try that\n",
    "calculate_age(clinton['birthday'])"
   ]
  },
  {
   "cell_type": "markdown",
   "metadata": {},
   "source": [
    "## What problems can you spot with this? \n",
    "\n",
    "* No Structure\n",
    "\n",
    "* Not DRY (repeating logic)\n",
    "\n",
    "*We can do better*"
   ]
  },
  {
   "cell_type": "markdown",
   "metadata": {},
   "source": [
    "### Classes encapsulate together:\n",
    "\n",
    "**State (Data)** \n",
    "\n",
    "**Behavior (Actions, functions)**\n",
    "\n",
    "**Identity**"
   ]
  },
  {
   "cell_type": "code",
   "execution_count": 13,
   "metadata": {},
   "outputs": [
    {
     "name": "stdout",
     "output_type": "stream",
     "text": [
      "<__main__.Person object at 0x7fefc4416670>\n",
      "<class '__main__.Person'>\n",
      "140667766531696\n",
      "<class '__main__.Person'>\n",
      "140667773762912\n"
     ]
    }
   ],
   "source": [
    "# Class in action\n",
    "\n",
    "class Person:\n",
    "    pass\n",
    "\n",
    "adam = Person() # this is the class initialization, it returns an *instance of the class*  \n",
    "\n",
    "print(adam) # I'm an instance of a class \n",
    "\n",
    "print(type(adam))\n",
    "\n",
    "print(id(adam))\n",
    "\n",
    "hava = Person()\n",
    "\n",
    "print(type(hava))\n",
    "print(id(hava))\n",
    "\n",
    "# Note the ids are always different even though they look the same - it's a different *Identity*"
   ]
  },
  {
   "cell_type": "code",
   "execution_count": 16,
   "metadata": {},
   "outputs": [
    {
     "name": "stdout",
     "output_type": "stream",
     "text": [
      "6024\n"
     ]
    }
   ],
   "source": [
    "\n",
    "# We can add properties , in classes it's usually called attributes\n",
    "\n",
    "adam.age = 6024\n",
    "\n",
    "# We can also access attibutes with the dot notation.\n",
    "print(adam.age)"
   ]
  },
  {
   "cell_type": "code",
   "execution_count": 17,
   "metadata": {},
   "outputs": [
    {
     "name": "stdout",
     "output_type": "stream",
     "text": [
      "the first murder\n",
      "6024\n"
     ]
    }
   ],
   "source": [
    "# Note the difference between dicts and classes\n",
    "\n",
    "# Dicts accessed by the brackets [] notation\n",
    "hevel = {\"tag_line\":\"the first murder\"}\n",
    "print(hevel['tag_line'])\n",
    "\n",
    "# Classes by . dot notation\n",
    "print(adam.age)\n"
   ]
  },
  {
   "cell_type": "markdown",
   "metadata": {},
   "source": [
    "## Let's try to make this more useful\n",
    "\n",
    "And add some structure and behavior"
   ]
  },
  {
   "cell_type": "code",
   "execution_count": 19,
   "metadata": {},
   "outputs": [],
   "source": [
    "class President:\n",
    "    def __init__(self, birthday: datetime.date, first_name, last_name):\n",
    "        self.birthday = birthday\n",
    "        self.first_name = first_name\n",
    "        self.last_name = last_name\n",
    "        \n",
    "    def greet(self):\n",
    "        print(f'Good morning president {self.last_name}')\n",
    "        \n"
   ]
  },
  {
   "cell_type": "markdown",
   "metadata": {},
   "source": [
    "## Let's focus on what's going on here:\n",
    "```python\n",
    "class President:\n",
    "    def __init__(self, birthday: datetime.date, first_name, last_name): # This is a special method\n",
    "        # __init__ is called when the class is initialized and passed the data we pass there\n",
    "        self.birthday = birthday\n",
    "        # those are class members\n",
    "        self.first_name = first_name\n",
    "        self.last_name = last_name\n",
    "\n",
    "    def greet(self): # this is a method\n",
    "        # self is the first argument in every method on the class - it's the actuall class - me - self\n",
    "        print(f'Good morning president {self.last_name}')\n",
    "        # We can use the . dot notation on it to access *members* of the class\n",
    "\n",
    "```"
   ]
  },
  {
   "cell_type": "code",
   "execution_count": 24,
   "metadata": {},
   "outputs": [
    {
     "name": "stdout",
     "output_type": "stream",
     "text": [
      "Good morning president Obama\n",
      "None\n"
     ]
    }
   ],
   "source": [
    "# so instead of this mess\n",
    "Obama = dict(day_of_birth=datetime.date(year=1961, month=8, day=4), name=\"barack\", surname='Obama', was_president=True)\n",
    "\n",
    "# we can do\n",
    "\n",
    "obama = President(birthday=datetime.date(year=1961, month=8, day=4), first_name='Barack', last_name='Obama')\n",
    "print(obama)\n",
    "print(obama.greet())"
   ]
  },
  {
   "cell_type": "code",
   "execution_count": 28,
   "metadata": {},
   "outputs": [
    {
     "ename": "TypeError",
     "evalue": "__init__() got an unexpected keyword argument 'tag_line'",
     "output_type": "error",
     "traceback": [
      "\u001b[0;31m---------------------------------------------------------------------------\u001b[0m",
      "\u001b[0;31mTypeError\u001b[0m                                 Traceback (most recent call last)",
      "\u001b[0;32m<ipython-input-28-77066cbaaa8a>\u001b[0m in \u001b[0;36m<module>\u001b[0;34m\u001b[0m\n\u001b[1;32m      1\u001b[0m \u001b[0;31m# What happens if we try to pass the class something unexpected\u001b[0m\u001b[0;34m\u001b[0m\u001b[0;34m\u001b[0m\u001b[0;34m\u001b[0m\u001b[0m\n\u001b[1;32m      2\u001b[0m \u001b[0;34m\u001b[0m\u001b[0m\n\u001b[0;32m----> 3\u001b[0;31m \u001b[0mp\u001b[0m \u001b[0;34m=\u001b[0m \u001b[0mPresident\u001b[0m\u001b[0;34m(\u001b[0m\u001b[0mbirthday\u001b[0m\u001b[0;34m=\u001b[0m\u001b[0mdatetime\u001b[0m\u001b[0;34m.\u001b[0m\u001b[0mdate\u001b[0m\u001b[0;34m(\u001b[0m\u001b[0myear\u001b[0m\u001b[0;34m=\u001b[0m\u001b[0;36m1961\u001b[0m\u001b[0;34m,\u001b[0m \u001b[0mmonth\u001b[0m\u001b[0;34m=\u001b[0m\u001b[0;36m8\u001b[0m\u001b[0;34m,\u001b[0m \u001b[0mday\u001b[0m\u001b[0;34m=\u001b[0m\u001b[0;36m4\u001b[0m\u001b[0;34m)\u001b[0m\u001b[0;34m,\u001b[0m \u001b[0mfirst_name\u001b[0m\u001b[0;34m=\u001b[0m\u001b[0;34m'Barack'\u001b[0m\u001b[0;34m,\u001b[0m \u001b[0mlast_name\u001b[0m\u001b[0;34m=\u001b[0m\u001b[0;34m'Obama'\u001b[0m\u001b[0;34m,\u001b[0m \u001b[0mtag_line\u001b[0m\u001b[0;34m=\u001b[0m\u001b[0;34m'something'\u001b[0m\u001b[0;34m)\u001b[0m\u001b[0;34m\u001b[0m\u001b[0;34m\u001b[0m\u001b[0m\n\u001b[0m\u001b[1;32m      4\u001b[0m \u001b[0;34m\u001b[0m\u001b[0m\n\u001b[1;32m      5\u001b[0m \u001b[0;31m# Allowing us to force some structure\u001b[0m\u001b[0;34m\u001b[0m\u001b[0;34m\u001b[0m\u001b[0;34m\u001b[0m\u001b[0m\n",
      "\u001b[0;31mTypeError\u001b[0m: __init__() got an unexpected keyword argument 'tag_line'"
     ]
    }
   ],
   "source": [
    "# What happens if we try to pass the class something unexpected\n",
    "\n",
    "p = President(birthday=datetime.date(year=1961, month=8, day=4), first_name='Barack', last_name='Obama', tag_line='something')\n",
    "\n",
    "# Allowing us to force some structure"
   ]
  },
  {
   "cell_type": "markdown",
   "metadata": {},
   "source": [
    "## Work in small groups:\n",
    "\n",
    "* Add a method on the class President to return the age of the president\n",
    "* Add an \"optional\" tag_line argument and save it in the class (Hint optional arguments in python are set as arg_name=None)\n",
    "* Add a method to say the tag line if exists but in upper case letters, but if not just say \"not here\""
   ]
  },
  {
   "cell_type": "code",
   "execution_count": 30,
   "metadata": {},
   "outputs": [
    {
     "name": "stdout",
     "output_type": "stream",
     "text": [
      "President Barack Obama\n"
     ]
    }
   ],
   "source": [
    "# We can also force how the class \"looks\" when we look at it in the debugger or print message with __repr__\n",
    "class President:\n",
    "    def __init__(self, birthday: datetime.date, first_name, last_name):\n",
    "        self.birthday = birthday\n",
    "        self.first_name = first_name\n",
    "        self.last_name = last_name\n",
    "        \n",
    "    def greet(self):\n",
    "        print(f'Good morning president {self.last_name}')\n",
    "        \n",
    "    def __repr__(self):\n",
    "        return f\"President {self.first_name} {self.last_name}\"\n",
    "\n",
    "obama = President(birthday=datetime.date(year=1961, month=8, day=4), first_name='Barack', last_name='Obama')\n",
    "\n",
    "print(obama)"
   ]
  },
  {
   "cell_type": "markdown",
   "metadata": {},
   "source": [
    "### We call the methods starting and ending with double underscore \\_\\_methodname\\_\\_ : dunder methods, and we'll discuss them further on in the lessons"
   ]
  },
  {
   "cell_type": "markdown",
   "metadata": {},
   "source": [
    "### Types: A class is also a \"type\", like it has an id, it also is an instance of \"something\" \n",
    "\n",
    "####  What classes we already bumbed into? "
   ]
  },
  {
   "cell_type": "markdown",
   "metadata": {},
   "source": [
    "## Inheritence "
   ]
  },
  {
   "cell_type": "code",
   "execution_count": null,
   "metadata": {},
   "outputs": [],
   "source": []
  },
  {
   "cell_type": "markdown",
   "metadata": {},
   "source": [
    "## Common classes in reality"
   ]
  },
  {
   "cell_type": "code",
   "execution_count": null,
   "metadata": {},
   "outputs": [],
   "source": []
  },
  {
   "cell_type": "markdown",
   "metadata": {},
   "source": [
    "# Homework\n",
    "\n",
    "* Read more about [Classes in python](https://www.geeksforgeeks.org/python-classes-and-objects/) (until encpasulation) \n",
    "* Do the [notebooks](https://github.com/PythonFreeCourse/Notebooks) classes 1 and classes 2  lessons (week 7)"
   ]
  },
  {
   "cell_type": "markdown",
   "metadata": {},
   "source": [
    "## Class dismissed"
   ]
  }
 ],
 "metadata": {
  "kernelspec": {
   "display_name": "Python 3",
   "language": "python",
   "name": "python3"
  },
  "language_info": {
   "codemirror_mode": {
    "name": "ipython",
    "version": 3
   },
   "file_extension": ".py",
   "mimetype": "text/x-python",
   "name": "python",
   "nbconvert_exporter": "python",
   "pygments_lexer": "ipython3",
   "version": "3.8.1"
  }
 },
 "nbformat": 4,
 "nbformat_minor": 4
}
